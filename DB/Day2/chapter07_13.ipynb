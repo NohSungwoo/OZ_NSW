{
 "cells": [
  {
   "cell_type": "markdown",
   "metadata": {},
   "source": [
    "[문제11]\n",
    "\n",
    "테이블을 생성하기 위해서 사용되는 sql문을 선택해주세요\n",
    "\n",
    "- CREATE TABLE\n",
    "- CREATE NEW TABLE\n",
    "- ADD TABLE\n",
    "- UPDATE TABLE"
   ]
  },
  {
   "cell_type": "markdown",
   "metadata": {},
   "source": [
    "정답 : CREATE TABLE\n",
    "\n",
    "CREATE TABLE tb.name(\n",
    "    column.name type,\n",
    "    column.name type,\n",
    "    column.name type\n",
    ")"
   ]
  },
  {
   "cell_type": "markdown",
   "metadata": {},
   "source": [
    "[문제12]\n",
    "\n",
    "테이블 생성 시 컬럼(속성)에 값이 항상 존재하도록 설정하는 명령어를 선택해주세요\n",
    "\n",
    "- IS NULL\n",
    "- NOT NULL\n",
    "- IN NULL\n",
    "- NULL"
   ]
  },
  {
   "cell_type": "markdown",
   "metadata": {},
   "source": [
    "정답 : NOT NULL\n",
    "\n",
    "IS NULL : 검색 조건 중 하나로 NULL 값이 있는지 확인한다. \n",
    "\n",
    "NOT NULL : COLUMN을 정의할 때 사용되는 조건으로 값이 NULL일 수 없게 한다.\n",
    "\n",
    "IN NULL : IN 연산자는 특정 값이 특정 집합에 속하는지 조회한다. \n",
    "\n",
    "NULL : 값이 비었다는 명시적인 표시"
   ]
  },
  {
   "cell_type": "markdown",
   "metadata": {},
   "source": [
    "[문제13]\n",
    "\n",
    "테이블 생성 시 컬럼(속성)에 중복된 값을 허용하지 않도록 설정하는 명령어를 모두 선택해주세요\n",
    "\n",
    "- UNIQUE\n",
    "- DEFAULT False\n",
    "- PRIMARY KEY\n",
    "- AUTO_INCREMENT"
   ]
  },
  {
   "cell_type": "markdown",
   "metadata": {},
   "source": [
    "정답 : UNIQUE, PRIMARY KEY\n",
    "\n",
    "UNIQUE : tb의 열에 고유한 값을 요구하는 제약 조건이다.\n",
    "DEFAULT False : 기본값을 False로 설정한다. \n",
    "PRIMARY KEY : 테이블에 존재하는 고유한 식별값, RAW를 식별할 때 사용한다.\n",
    "AUTO_INCREMENT : COLUMN을 생성할 때 값을 자동으로 증가시킨다."
   ]
  },
  {
   "cell_type": "markdown",
   "metadata": {},
   "source": [
    "[문제14]\n",
    "\n",
    "데이터베이스의 숫자형 데이터 타입이 아닌것을 선택해주세요\n",
    "\n",
    "- BIT\n",
    "- INT\n",
    "- CHAR\n",
    "- BIGINT"
   ]
  },
  {
   "cell_type": "markdown",
   "metadata": {},
   "source": [
    "정답 : CHAR\n",
    "\n",
    "BIT : 비트 단위로 저장\n",
    "INT : 정수형 데이터를 저장\n",
    "CHAR : 문자형 데이터 타입을 저장\n",
    "BIGINT : INT보다 큰 범위의 정수를 저장\n"
   ]
  },
  {
   "cell_type": "markdown",
   "metadata": {},
   "source": [
    "[문제15]\n",
    "\n",
    "날짜와 시간을 같이 나타내는 데이터 타입을 선택해주세요\n",
    "\n",
    "- DATE\n",
    "- TIME\n",
    "- DATETIME"
   ]
  },
  {
   "cell_type": "markdown",
   "metadata": {},
   "source": [
    "정답 : DATETIME\n",
    "\n",
    "DATE : 년, 월, 일을 나타내는ㄷ 데 사용된다. 시간 정보는 포합하지 않는다.\n",
    "\n",
    "TIME : 시간 정보만 나타내는 데 사용된다.\n",
    "\n",
    "DATETIME : 년, 월, 일, 시, 분, 초를 다 나타낼 수 있다."
   ]
  },
  {
   "cell_type": "markdown",
   "metadata": {},
   "source": [
    "[문제16]\n",
    "\n",
    "CHAR과 VARCHAR의 차이로 옳은 것을 선택해 주세요\n",
    "\n",
    "- 저장할 수 있는 데이터 종류(문자, 숫자)가 다름\n",
    "- 데이터를 담을 수 있는 공간이 고정인지 가변인지의 차이\n",
    "- 문자열 값을 정수로 표현할 수 있는지의 차이\n",
    "- 한번 입력된 데이터의 수정 여부의 차이"
   ]
  },
  {
   "cell_type": "markdown",
   "metadata": {},
   "source": [
    "정답 : 데이터를 담을 수 있는 공간이 고정인지 가변인지의 차이\n",
    "\n",
    "CHAR : 고정 길이 문자열 데이터 타입, 지정된 길이의 고정된 공간을 사용한다. CHAR(10)은 항상 10개의 문자를 저장한다.\n",
    "\n",
    "VARCHAR : 가변 길이 문자열 데이터 타입, 필요에 따라 길이가 변경될 수 있다."
   ]
  },
  {
   "cell_type": "markdown",
   "metadata": {},
   "source": [
    "[문제17]\n",
    "\n",
    "데이터베이스 내의 트랜잭션을 관리하는데 사용되는 언어를 선택해주세요\n",
    "\n",
    "- DCL\n",
    "- DML\n",
    "- TCL\n",
    "- DDL"
   ]
  },
  {
   "cell_type": "markdown",
   "metadata": {},
   "source": [
    "정답 : TCL"
   ]
  },
  {
   "cell_type": "markdown",
   "metadata": {},
   "source": [
    "[문제18]\n",
    "\n",
    "칼럼에 저장될 수 있는 값의 범위나 조건을 지정하는 명령어를 선택해주세요\n",
    "\n",
    "- IN\n",
    "- WHERE\n",
    "- CHECK\n",
    "- ON"
   ]
  },
  {
   "cell_type": "markdown",
   "metadata": {},
   "source": [
    "정답 : CHECK\n",
    "\n",
    "WHERE : 데이터를 필터링 하기 위해 사용되는 조건절이다.\n",
    "\n",
    "CHECK : 칼럼에 저장될 수 있는 값의 범위나 조건을 지정하는 제약 조건이다.\n",
    "조건을 만족하지 않는 값은 허용되지 않는다.\n",
    "\n",
    "ON : 조인 조건이나 제약 조건에 사용되는 키워드이다."
   ]
  }
 ],
 "metadata": {
  "language_info": {
   "name": "python"
  }
 },
 "nbformat": 4,
 "nbformat_minor": 2
}
