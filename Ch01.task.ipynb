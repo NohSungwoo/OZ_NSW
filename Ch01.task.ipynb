{
 "cells": [
  {
   "cell_type": "markdown",
   "metadata": {},
   "source": [
    "<span style=\"font-size:100%\">\n",
    "\n",
    "수업은 모두 열심히 들으셨나요?\n",
    "\n",
    "간혹 강의에서 언급되지 않은 내용이 문제로 나올 수 있습니다.<br>\n",
    "그럴땐 강의 내용 외 문제는 구글링을 통해 해결해주세요<br></span>\n",
    "<span style=\"font-size:80%\">\n",
    "(구글링 또한 개발자가 갖쳐야할 역량 중에 하나랍니다 😊)\n",
    "</span>\n",
    "\n",
    "---"
   ]
  },
  {
   "cell_type": "markdown",
   "metadata": {},
   "source": [
    "<span style=\"font-size:80%\">[문제1]<br><br></span>\n",
    "```인터프리트 방식에 대해 설명하고 2개 이상의 장점을 설명해주세요```"
   ]
  },
  {
   "cell_type": "markdown",
   "metadata": {},
   "source": [
    "<span style=\"color:red\">답변</span>"
   ]
  },
  {
   "cell_type": "markdown",
   "metadata": {},
   "source": [
    "인터프리터는 고급 언어로 작성된 원시 코드 명령어들을 한 번에 한 줄식 읽어들여서 실행하는 프로그램입니다.\n",
    "컴파일 과정이 필요하지 않아서 개발 과정이 비교적 빠릅니다.\n",
    "코드 변경 후에 바로 결과를 볼 수 있기 때문에 디버깅 과정이 용이한 편입니다."
   ]
  },
  {
   "cell_type": "markdown",
   "metadata": {},
   "source": [
    "---"
   ]
  },
  {
   "cell_type": "markdown",
   "metadata": {},
   "source": [
    "<span style=\"font-size:80%\">[문제2]<br><br></span>\n",
    "```동적 타입 방식의 장점과 단점을 간략히 설명해주세요```"
   ]
  },
  {
   "cell_type": "markdown",
   "metadata": {},
   "source": [
    "<span style=\"color:red\">답변</span>"
   ]
  },
  {
   "cell_type": "markdown",
   "metadata": {},
   "source": [
    "\n",
    "동적 타입은 선언 시에 자료형을 지정할 필요가 없습니다.\n",
    "이는 코드의 양을 줄여주어 생산성을 올려주고 개발자가 변수를 자유롭게 다룰 수 있게 도와줍니다.\n",
    "하지만 변수에 어떤 자료형이 담겨있는지 명시적으로 표현되지 않기 때문에 그에 따른 에러가 발생할 수 있습니다."
   ]
  },
  {
   "cell_type": "markdown",
   "metadata": {},
   "source": [
    "---"
   ]
  },
  {
   "cell_type": "markdown",
   "metadata": {},
   "source": [
    "<span style=\"font-size:80%\">[문제3]<br><br></span>\n",
    "```Python으로 정적타입 방식의 코드를 작성할 수 있는 방법을 구글링을 통해 검색 후 설명해주세요```"
   ]
  },
  {
   "cell_type": "markdown",
   "metadata": {},
   "source": [
    "<span style=\"color:red\">답변</span>"
   ]
  },
  {
   "cell_type": "markdown",
   "metadata": {},
   "source": [
    "파이썬 3.5에서 추가된 TypeHint 라는 기능을 사용하면 파이썬에서도 정적타입 방식의 코드를 작성할 수 있습니다.\n",
    "변수 : 자료형 = 값\n",
    "함수(변수 : 자료형) : 값\n",
    "이런 식으로 \":\"뒤에 자료형을 명시적으로 지정해 줄 수 있습니다."
   ]
  },
  {
   "cell_type": "markdown",
   "metadata": {},
   "source": [
    "---"
   ]
  },
  {
   "cell_type": "markdown",
   "metadata": {},
   "source": [
    "<span style=\"font-size:80%\">[문제4]<br><br></span>\n",
    "```프로세스와 스레드의 차이점을 설명해주세요```"
   ]
  },
  {
   "cell_type": "markdown",
   "metadata": {},
   "source": [
    "<span style=\"color:red\">답변</span>"
   ]
  },
  {
   "cell_type": "markdown",
   "metadata": {},
   "source": [
    "프로세스는 메모리에 올라와 실행되고 있는 프로그램의 인스턴스를 지칭합니다.\n",
    "이는 실행된 프로그램을 의미하기도 합니다.\n",
    "\n",
    "스레드는 프로세스 내에서 실행되는 여러 흐름의 단위입니다.\n"
   ]
  },
  {
   "cell_type": "markdown",
   "metadata": {},
   "source": [
    "---"
   ]
  },
  {
   "cell_type": "markdown",
   "metadata": {},
   "source": [
    "<span style=\"font-size:80%\">[문제5]<br><br></span>\n",
    "```Python 2버전대와 3버전대의 차이를 성명해주세요```"
   ]
  },
  {
   "cell_type": "markdown",
   "metadata": {},
   "source": [
    "<span style=\"color:red\">답변</span>"
   ]
  },
  {
   "cell_type": "markdown",
   "metadata": {},
   "source": [
    "주요 변경점은 다음과 같습니다.\n",
    "print -> 함수로 변경\n",
    "Long -> int타입으로 통합\n",
    "나눗셈 연산 -> float로 처리\n",
    "string, unicode -> string으로 통합하고 bytes타입이 생겼다."
   ]
  },
  {
   "cell_type": "markdown",
   "metadata": {},
   "source": [
    "---"
   ]
  },
  {
   "cell_type": "markdown",
   "metadata": {},
   "source": [
    "<span style=\"font-size:80%\">[문제6]<br><br></span>\n",
    "```Python에서 메모리 관리는 어떻게 이루어지는지 설명해주세요```"
   ]
  },
  {
   "cell_type": "markdown",
   "metadata": {},
   "source": [
    "<span style=\"color:red\">답변</span>"
   ]
  },
  {
   "cell_type": "markdown",
   "metadata": {},
   "source": [
    "파이썬은 메모리를 자동으로 관리하는 프로그래밍 언어입니다.\n",
    "파이썬의 메모리 관리는 참조계수를 기반으로 이루어집니다.\n",
    "객체가 생성될 때마다 객체를 참조하는 변수를 추적하는 방식이고, 변수가 0개가 되면 메모리는 자동으로 해제됩니다.\n",
    "하지만 이런 방식은 순환 참조 시에 메모리 누수를 발생시킬 수 있기 때문에 가비지 컬렉션이라는 기능을 이용해 메모리 누수를 방지합니다."
   ]
  }
 ],
 "metadata": {
  "language_info": {
   "name": "python"
  }
 },
 "nbformat": 4,
 "nbformat_minor": 2
}
