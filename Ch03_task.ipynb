{
 "cells": [
  {
   "cell_type": "markdown",
   "metadata": {},
   "source": [
    "<span style=\"font-size:100%\">\n",
    "\n",
    "수업은 모두 열심히 들으셨나요?\n",
    "\n",
    "간혹 강의에서 언급되지 않은 내용이 문제로 나올 수 있습니다.<br>\n",
    "그럴땐 강의 내용 외 문제는 구글링을 통해 해결해주세요<br></span>\n",
    "<span style=\"font-size:80%\">\n",
    "(구글링 또한 개발자가 갖쳐야할 역량 중에 하나랍니다 😊)\n",
    "</span>\n",
    "\n",
    "---"
   ]
  },
  {
   "cell_type": "markdown",
   "metadata": {},
   "source": [
    "<span style=\"font-size:80%\">[문제1]<br><br></span>\n",
    "```주로 작성 중인 코드의 끝을 알리는 기호로 사용되며 파이썬에서 한 줄에 작성된 서로 다른 코드를 구분 지을 때 사용할 수 있는 기호를 골라주세요```\n",
    "\n",
    "1. ' , ' (쉼표)\n",
    "2. ' + ' (더하기 기호)\n",
    "3. ' ; ' (세미콜론)\n",
    "4. ' / ' (슬래시)"
   ]
  },
  {
   "cell_type": "markdown",
   "metadata": {},
   "source": [
    "<span style=\"color:red\">답변</span> :"
   ]
  },
  {
   "cell_type": "markdown",
   "metadata": {},
   "source": [
    ";"
   ]
  },
  {
   "cell_type": "markdown",
   "metadata": {},
   "source": [
    "----"
   ]
  },
  {
   "cell_type": "markdown",
   "metadata": {},
   "source": [
    "<span style=\"font-size:80%\">[문제2]<br><br></span>\n",
    "```Python의 PEP 8은 무엇인지 설명하고 PEP 8의 핵심적인 규칙을 1개 이상을 설명해주세요```"
   ]
  },
  {
   "cell_type": "markdown",
   "metadata": {},
   "source": [
    "<span style=\"color:red\">답변</span>"
   ]
  },
  {
   "cell_type": "markdown",
   "metadata": {},
   "source": [
    "PEP 8은 \"Style Guide for Python Code\"로 파이썬 코드를 어떻게 작성해야 하는 지 알려주는 스타일 가이드입니다.\n",
    "즉, 표준 문법 가이드라고 생각할 수 있습니다.\n",
    "\n",
    "Code\n",
    "들여쓰기는 공백 4칸을 권장합니다.\n",
    "한 줄은 최대 79자까지만.\n",
    "최상위 함수와 클래스 정의는 2줄씩 띄어씁니다.\n",
    "클래스 내의 메소드 정의는 1줄씩 띄어씁니다.\n",
    "\n",
    "WhiteSpace\n",
    "불필요한 공백은 피합니다.\n",
    "키워드 인자와 인자의 기본값의 \"=\"는 붙여씁니다.\n",
    "\n",
    "Comment\n",
    "주석은 필요한 곳에만 답니다.\n",
    "\n",
    "Naming Convention\n",
    "_ 위치에 따라서 의미가 달라집니다.\n",
    "_single_leading_underscore : 내부적으로 사용되는 변수\n",
    "single_trailling_underscore_ : 파이썬 기본 키워드와 충돌을 피하려 사용\n",
    "__double_leading_underscore : 클래스 속성으로 사용되면 그 이름을 변경\n",
    "__double_leading_and_trailing_undersocre__: magic 키워드 \n",
    "소문자 L,O,I는 변수명으로 사용하지 않는 게 좋습니다."
   ]
  },
  {
   "cell_type": "markdown",
   "metadata": {},
   "source": [
    "----"
   ]
  },
  {
   "cell_type": "markdown",
   "metadata": {},
   "source": [
    "<span style=\"font-size:80%\">[문제3]<br><br></span>\n",
    "```Python에서 \"#\"이 의마하는 것은 무엇인지 설명해주세요```"
   ]
  },
  {
   "cell_type": "markdown",
   "metadata": {},
   "source": [
    "<span style=\"color:red\">답변</span>"
   ]
  },
  {
   "cell_type": "markdown",
   "metadata": {},
   "source": [
    "파이썬에서 #은 주석을 달 때 사용합니다."
   ]
  },
  {
   "cell_type": "markdown",
   "metadata": {},
   "source": [
    "----"
   ]
  },
  {
   "cell_type": "markdown",
   "metadata": {},
   "source": [
    "<span style=\"font-size:80%\">[문제4]<br><br></span>\n",
    "```Python의 들여쓰기 장점과 기능에 대해 설명해주세요```"
   ]
  },
  {
   "cell_type": "markdown",
   "metadata": {},
   "source": [
    "<span style=\"color:red\">답변</span>"
   ]
  },
  {
   "cell_type": "markdown",
   "metadata": {},
   "source": [
    "파이썬의 들여쓰기는 하나의 문법 요소로써 인정을 받고 있습니다.\n",
    "다른 언어에서의 들여쓰기는 '권장'사항에 지나지 않지만,\n",
    "파이썬은 들여쓰기를 일정하게 지키지 않으면 에러를 발생시킵니다.\n",
    "이는 코드의 균일성을 향상시켜 가독성을 높여주고 품질과 생산성을 향상시켜줄 수 있습니다."
   ]
  },
  {
   "cell_type": "markdown",
   "metadata": {},
   "source": [
    "----"
   ]
  },
  {
   "cell_type": "markdown",
   "metadata": {},
   "source": [
    "<span style=\"font-size:80%\">[문제5]<br><br></span>\n",
    "```print( )문의 기능 및 특징에 대해 설명해주세요```"
   ]
  },
  {
   "cell_type": "markdown",
   "metadata": {},
   "source": [
    "<span style=\"color:red\">답변</span>"
   ]
  },
  {
   "cell_type": "code",
   "execution_count": null,
   "metadata": {
    "vscode": {
     "languageId": "plaintext"
    }
   },
   "outputs": [],
   "source": [
    "print()함수는 파이썬 내장함수 중의 하나로 다른 모듈을 활용하지 않아도 사용할 수 있습니다.\n",
    "print는 기본적으로 문자열을 출력하는 데 사용되지만 다양한 데이터를 출력할 수 있습니다."
   ]
  },
  {
   "cell_type": "markdown",
   "metadata": {},
   "source": []
  }
 ],
 "metadata": {
  "language_info": {
   "name": "python"
  }
 },
 "nbformat": 4,
 "nbformat_minor": 2
}
