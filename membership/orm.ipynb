{
 "cells": [
  {
   "cell_type": "markdown",
   "metadata": {},
   "source": [
    "### 1. 사용자 추가하기\n",
    "\n",
    "문제 : 사용자 3명을 추가해주세요"
   ]
  },
  {
   "cell_type": "markdown",
   "metadata": {},
   "source": [
    "- `username` : 박지수\n",
    "    - `email` : jisoo_2@naver.com\n",
    "    - `phone_number` : 010-2354-2234\n",
    "    - `password`(’pw123’)"
   ]
  },
  {
   "cell_type": "code",
   "execution_count": null,
   "metadata": {},
   "outputs": [],
   "source": [
    "from users.models import User\n",
    "create_user = User(username = '박지수', email = 'jisoo_2@naver.com', phone_number = '010-2354-2234')\n",
    "create_user.set_password('pw123')\n",
    "create_user.save()"
   ]
  },
  {
   "cell_type": "markdown",
   "metadata": {},
   "source": [
    "- username : 강철\n",
    "    - `email` : ggch@naver.com\n",
    "    - `phone_number` : 010-1114-6443\n",
    "    - `password`(’pwpw’)"
   ]
  },
  {
   "cell_type": "code",
   "execution_count": null,
   "metadata": {},
   "outputs": [],
   "source": [
    "create_user = User(username = '강철', email = 'ggch@naver.com', phone_number = '010-1114-6443')\n",
    "create_user.set_password('pwpw')\n",
    "create_user.save()"
   ]
  },
  {
   "cell_type": "markdown",
   "metadata": {},
   "source": [
    "- username : 민현지\n",
    "    - `email` : master_g@gmail.com\n",
    "    - `phone_number` : 010-8495-3456"
   ]
  },
  {
   "cell_type": "code",
   "execution_count": null,
   "metadata": {},
   "outputs": [],
   "source": [
    "create_user = User(username = '민현지', email = 'master_g@gmail.com', phone_number = '010-8495-3456')\n",
    "create_user.save()"
   ]
  },
  {
   "cell_type": "markdown",
   "metadata": {},
   "source": [
    "### 2.특정 사용자 조회하기"
   ]
  },
  {
   "cell_type": "markdown",
   "metadata": {},
   "source": [
    "문제: '박지수' 사용자의 전체 정보를 조회하세요."
   ]
  },
  {
   "cell_type": "code",
   "execution_count": 3,
   "metadata": {},
   "outputs": [
    {
     "ename": "ModuleNotFoundError",
     "evalue": "No module named 'django'",
     "output_type": "error",
     "traceback": [
      "\u001b[0;31m---------------------------------------------------------------------------\u001b[0m",
      "\u001b[0;31mModuleNotFoundError\u001b[0m                       Traceback (most recent call last)",
      "Cell \u001b[0;32mIn[3], line 1\u001b[0m\n\u001b[0;32m----> 1\u001b[0m \u001b[38;5;28;01mfrom\u001b[39;00m \u001b[38;5;21;01musers\u001b[39;00m\u001b[38;5;21;01m.\u001b[39;00m\u001b[38;5;21;01mmodels\u001b[39;00m \u001b[38;5;28;01mimport\u001b[39;00m User\n\u001b[1;32m      2\u001b[0m user \u001b[38;5;241m=\u001b[39m User\u001b[38;5;241m.\u001b[39mobjects\u001b[38;5;241m.\u001b[39mget(username \u001b[38;5;241m=\u001b[39m \u001b[38;5;124m'\u001b[39m\u001b[38;5;124m박지수\u001b[39m\u001b[38;5;124m'\u001b[39m)\n\u001b[1;32m      3\u001b[0m user\n",
      "File \u001b[0;32m~/workspace/OZ_BE03_NSW/membership/users/models.py:1\u001b[0m\n\u001b[0;32m----> 1\u001b[0m \u001b[38;5;28;01mfrom\u001b[39;00m \u001b[38;5;21;01mdjango\u001b[39;00m\u001b[38;5;21;01m.\u001b[39;00m\u001b[38;5;21;01mdb\u001b[39;00m \u001b[38;5;28;01mimport\u001b[39;00m models\n\u001b[1;32m      2\u001b[0m \u001b[38;5;28;01mfrom\u001b[39;00m \u001b[38;5;21;01mdjango\u001b[39;00m\u001b[38;5;21;01m.\u001b[39;00m\u001b[38;5;21;01mcontrib\u001b[39;00m\u001b[38;5;21;01m.\u001b[39;00m\u001b[38;5;21;01mauth\u001b[39;00m\u001b[38;5;21;01m.\u001b[39;00m\u001b[38;5;21;01mmodels\u001b[39;00m \u001b[38;5;28;01mimport\u001b[39;00m AbstractUser\n\u001b[1;32m      4\u001b[0m \u001b[38;5;28;01mclass\u001b[39;00m \u001b[38;5;21;01mUser\u001b[39;00m(AbstractUser) :\n",
      "\u001b[0;31mModuleNotFoundError\u001b[0m: No module named 'django'"
     ]
    }
   ],
   "source": [
    "user = User.objects.get(username = '박지수')\n",
    "user"
   ]
  },
  {
   "cell_type": "markdown",
   "metadata": {},
   "source": [
    "문제 : ‘강철’ 사용자의 이메일 주소를 'steel_kang@naver.com'으로 변경해주세요"
   ]
  },
  {
   "cell_type": "code",
   "execution_count": null,
   "metadata": {},
   "outputs": [],
   "source": [
    "user = User.objects.get(username = '강철')\n",
    "user.email = 'steel_kang@naver.com'\n",
    "user.save()"
   ]
  },
  {
   "cell_type": "markdown",
   "metadata": {},
   "source": [
    "문제 : '민현지' 사용자의 비밀번호를 'newpassword'로 변경해주세요"
   ]
  },
  {
   "cell_type": "code",
   "execution_count": null,
   "metadata": {},
   "outputs": [],
   "source": [
    "user = User.objects.get(username = '민현지')\n",
    "user.set_password('newpassword')\n",
    "user.save()"
   ]
  },
  {
   "cell_type": "markdown",
   "metadata": {},
   "source": [
    "문제 : 모든 사용자의 이름과 이메일 주소 조회 후 출력해주세요"
   ]
  },
  {
   "cell_type": "code",
   "execution_count": 4,
   "metadata": {},
   "outputs": [
    {
     "ename": "NameError",
     "evalue": "name 'User' is not defined",
     "output_type": "error",
     "traceback": [
      "\u001b[0;31m---------------------------------------------------------------------------\u001b[0m",
      "\u001b[0;31mNameError\u001b[0m                                 Traceback (most recent call last)",
      "Cell \u001b[0;32mIn[4], line 1\u001b[0m\n\u001b[0;32m----> 1\u001b[0m users \u001b[38;5;241m=\u001b[39m \u001b[43mUser\u001b[49m\u001b[38;5;241m.\u001b[39mobjects\u001b[38;5;241m.\u001b[39mall()\n\u001b[1;32m      2\u001b[0m \u001b[38;5;28;01mfor\u001b[39;00m user \u001b[38;5;129;01min\u001b[39;00m users:\n\u001b[1;32m      3\u001b[0m     \u001b[38;5;28mprint\u001b[39m(user\u001b[38;5;241m.\u001b[39musername, user\u001b[38;5;241m.\u001b[39memail)\n",
      "\u001b[0;31mNameError\u001b[0m: name 'User' is not defined"
     ]
    }
   ],
   "source": [
    "users = User.objects.all()\n",
    "for user in users:\n",
    "    print(user.username, user.email)"
   ]
  },
  {
   "cell_type": "markdown",
   "metadata": {},
   "source": [
    "문제 : 전화번호가 등록된 사용자만 조회 후 출력해주세요"
   ]
  },
  {
   "cell_type": "code",
   "execution_count": null,
   "metadata": {},
   "outputs": [],
   "source": [
    "users_with_phone = User.objects.exclude(phone_number__isnull=True).exclude(phone_number='')\n",
    "for user in users_with_phone:\n",
    "    print(user.username, user.phone_number)"
   ]
  },
  {
   "cell_type": "markdown",
   "metadata": {},
   "source": [
    "문제 : 특정 이메일 도메인(@gmail.com)을 가진 사용자를 조회 후 출력해주세요"
   ]
  },
  {
   "cell_type": "code",
   "execution_count": null,
   "metadata": {},
   "outputs": [],
   "source": [
    "gmail_users = User.objects.filter(email__endswith = '@gmail.com')\n",
    "for user in gmail_users:\n",
    "    print(user.username, user.email)"
   ]
  },
  {
   "cell_type": "markdown",
   "metadata": {},
   "source": [
    "문제 : 사용자 이름에 '지'가 포함된 사용자를 조회 후 출력해주세요"
   ]
  },
  {
   "cell_type": "code",
   "execution_count": null,
   "metadata": {},
   "outputs": [],
   "source": [
    "users_with_ji = User.objects.filter(username__contains='지')\n",
    "for user in users_with_ji:\n",
    "    print(user.username)"
   ]
  },
  {
   "cell_type": "markdown",
   "metadata": {},
   "source": [
    "문제 : 최근 등록된 사용자 2명을 조회 후 출력해주세요"
   ]
  },
  {
   "cell_type": "code",
   "execution_count": null,
   "metadata": {},
   "outputs": [],
   "source": [
    "recent_three_users = User.objects.all().order_by('-date_joined')[:3]\n",
    "for user in recent_three_users:\n",
    "    print(user.username, user.date_joined)"
   ]
  },
  {
   "cell_type": "markdown",
   "metadata": {},
   "source": [
    "### 3.특정 사용자 조회하기\n",
    "\n",
    "1. 관계 설정된 모델에 데이터 추가하기"
   ]
  },
  {
   "cell_type": "markdown",
   "metadata": {},
   "source": [
    "- 박지수 사용자의 address 정보를 추가해주세요\n",
    "    - `user` : jisoo\n",
    "    - `street` : 23-2\n",
    "    - `city` : 서울시\n",
    "    - `state` : 영등포구\n",
    "    - `postal_code` : 04231\n",
    "    - `country` : 대한민국"
   ]
  },
  {
   "cell_type": "code",
   "execution_count": null,
   "metadata": {},
   "outputs": [],
   "source": [
    "jisoo = User.objects.get(username='박지수')\n",
    "\n",
    "# 새 주소 객체 생성\n",
    "new_address = Address(\n",
    "    user=jisoo, \n",
    "    street=\"23-2\",\n",
    "    city=\"서울시\",\n",
    "    state=\"영등포구\",\n",
    "    postal_code=\"04231\",\n",
    "    country=\"대한민국\"\n",
    ")\n",
    "\n",
    "# 주소 정보 저장\n",
    "new_address.save()"
   ]
  },
  {
   "cell_type": "markdown",
   "metadata": {},
   "source": [
    "- 민현지 사용자의 address 정보를 추가해주세요\n",
    "    - `user` : hyunji\n",
    "    - `street` : 43-1\n",
    "    - `city` : 부산특별시\n",
    "    - `state` : 사직동\n",
    "    - `postal_code` : 61234\n",
    "    - `country` : 대한민국"
   ]
  },
  {
   "cell_type": "code",
   "execution_count": null,
   "metadata": {},
   "outputs": [],
   "source": [
    "# 사용자 '민현지' 찾기\n",
    "hyunji = User.objects.get(username='민현지')\n",
    "\n",
    "# 민현지에게 새 주소 추가\n",
    "hyunji_address = Address(\n",
    "    user=hyunji,\n",
    "    street=\"43-1\",\n",
    "    city=\"부산특별시\",\n",
    "    state=\"사직동\",\n",
    "    postal_code=\"61234\",\n",
    "    country=\"대한민국\"\n",
    ")\n",
    "\n",
    "# 주소 정보 저장\n",
    "hyunji_address.save()"
   ]
  },
  {
   "cell_type": "markdown",
   "metadata": {},
   "source": [
    "- 강철 사용자의 address 정보를 추가해주세요\n",
    "    - `user` : kang_chul\n",
    "    - `street` : 99-2\n",
    "    - `city` : 서울\n",
    "    - `state` : 강남구\n",
    "    - `postal_code` : 68975\n",
    "    - `country` : 대한민국"
   ]
  },
  {
   "cell_type": "code",
   "execution_count": null,
   "metadata": {},
   "outputs": [],
   "source": [
    "# 사용자 '강철' 찾기\n",
    "kang_chul = User.objects.get(username='강철')\n",
    "\n",
    "# 강철에게 새 주소 추가\n",
    "kang_chul_address = Address(\n",
    "    user=kang_chul,\n",
    "    street=\"99-2\",\n",
    "    city=\"서울\",\n",
    "    state=\"강남구\",\n",
    "    postal_code=\"223344\",\n",
    "    country=\"대한민국\"\n",
    ")\n",
    "\n",
    "# 주소 정보 저장\n",
    "kang_chul_address.save()"
   ]
  },
  {
   "cell_type": "markdown",
   "metadata": {},
   "source": [
    "### 4. 관계 설정된 모델에 데이터 조회하기\n",
    "\n",
    "'박지수' 사용자에 연결된 모든 주소 정보를 조회 후 출력해주세요"
   ]
  },
  {
   "cell_type": "code",
   "execution_count": null,
   "metadata": {},
   "outputs": [],
   "source": [
    "jisoo = User.objects.get(username='박지수')\n",
    "addresses_jisoo = Address.objects.filter(user=jisoo)\n",
    "\n",
    "for address in addresses_jisoo:\n",
    "    print(address)"
   ]
  },
  {
   "cell_type": "markdown",
   "metadata": {},
   "source": [
    "### 5.사용자 정보 삭제하기\n",
    "\n",
    "‘강철’ 사용자의 장보를 삭제해주세요"
   ]
  },
  {
   "cell_type": "markdown",
   "metadata": {},
   "source": [
    "kang_chul = User.objects.get(username='강철')\n",
    "kang_chul.delete()"
   ]
  }
 ],
 "metadata": {
  "kernelspec": {
   "display_name": "oz-django-uJoxvd_R-py3.12",
   "language": "python",
   "name": "python3"
  },
  "language_info": {
   "codemirror_mode": {
    "name": "ipython",
    "version": 3
   },
   "file_extension": ".py",
   "mimetype": "text/x-python",
   "name": "python",
   "nbconvert_exporter": "python",
   "pygments_lexer": "ipython3",
   "version": "3.12.3"
  }
 },
 "nbformat": 4,
 "nbformat_minor": 2
}
