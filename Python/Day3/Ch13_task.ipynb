{
 "cells": [
  {
   "cell_type": "markdown",
   "metadata": {},
   "source": [
    "<span style=\"font-size:100%\">\n",
    "\n",
    "수업은 모두 열심히 들으셨나요?\n",
    "\n",
    "간혹 강의에서 언급되지 않은 내용이 문제로 나올 수 있습니다.<br>\n",
    "그럴땐 강의 내용 외 문제는 구글링을 통해 해결해주세요<br></span>\n",
    "<span style=\"font-size:80%\">\n",
    "(구글링 또한 개발자가 갖쳐야할 역량 중에 하나랍니다 😊)\n",
    "</span>\n",
    "\n",
    "---"
   ]
  },
  {
   "cell_type": "markdown",
   "metadata": {},
   "source": [
    "<span style=\"font-size:80%\">[문제1]<br><br></span>\n",
    "세트 money의 결과로 올바른 것을 골라주세요\n",
    "\n",
    "money = { '만원', '만원', '오만원', '백원', '오만원', '십원' }\n",
    "\n",
    "1. { '백원', '십원' }\n",
    "2. {'만원', '백원', '십원', '오만원'}\n",
    "3. {'만원', '백원', '십원'}\n",
    "4. {'만원',  '오만원'}"
   ]
  },
  {
   "cell_type": "markdown",
   "metadata": {},
   "source": [
    "<span style=\"color:red\">답변</span>"
   ]
  },
  {
   "cell_type": "markdown",
   "metadata": {},
   "source": [
    "2번\n",
    "\n",
    "풀이 :\n",
    "set는 중복을 허용하지 않는다."
   ]
  },
  {
   "cell_type": "markdown",
   "metadata": {},
   "source": [
    "----"
   ]
  },
  {
   "cell_type": "markdown",
   "metadata": {},
   "source": [
    "<span style=\"font-size:80%\">[문제2]<br><br></span>\n",
    "세트 x = {3, 6, 9} 그리고 y = {1, 2, 3}가 있을 때, 집합 연산의 결과로 잘못된 것을 모두 고르세요\n",
    "\n",
    "1. set.union(x, y)는 {1, 2, 3, 6, 9}\n",
    "2. x ^ y는 {1, 3, 6}\n",
    "3. x - y는 {6, 9}\n",
    "4. x & y는 { 3 }\n",
    "5. set.difference(y, x)는 { 2 }"
   ]
  },
  {
   "cell_type": "markdown",
   "metadata": {},
   "source": [
    "<span style=\"color:red\">답변</span>"
   ]
  },
  {
   "cell_type": "markdown",
   "metadata": {},
   "source": [
    "2번, 5번\n",
    "\n",
    "풀이 :\n",
    "^연산자는 대칭 차집합을 구하는 기호입니다.\n",
    "고로 답은 3을 뺀 1, 2, 6, 9가 나옵니다.\n",
    "\n",
    "set.difference(y, x)의 값은 {1, 2}가 나오게 됩니다."
   ]
  },
  {
   "cell_type": "markdown",
   "metadata": {},
   "source": [
    "----"
   ]
  },
  {
   "cell_type": "markdown",
   "metadata": {},
   "source": [
    "<span style=\"font-size:80%\">[문제3]<br><br></span>\n",
    "과일 바구니 안에 두리안이 있는지 확인하기 위한 코드를 작성해 주세요\n",
    "\n",
    "과일_바구니 = {'사과', '포도', '샤인머스켓', '두리안'}"
   ]
  },
  {
   "cell_type": "markdown",
   "metadata": {},
   "source": [
    "<span style=\"color:red\">답변</span>"
   ]
  },
  {
   "cell_type": "markdown",
   "metadata": {},
   "source": [
    "print(\"두리안\" in 과일_바구니)"
   ]
  },
  {
   "cell_type": "markdown",
   "metadata": {},
   "source": [
    "----"
   ]
  },
  {
   "cell_type": "markdown",
   "metadata": {},
   "source": [
    "<span style=\"font-size:80%\">[문제4]<br><br></span>\n",
    "메서드와 연산자의 기능이 잘못 짝지어진 것을 골라주세요\n",
    "\n",
    "1. set.intersection은 &와 같다.\n",
    "2. set.update는 |=와 같다.\n",
    "3. symmetric_difference_update는 -=와 같다.\n",
    "4. issuperset은 >와 같다.\n",
    "5. set.union은 |와 같다."
   ]
  },
  {
   "cell_type": "markdown",
   "metadata": {},
   "source": [
    "<span style=\"color:red\">답변</span>"
   ]
  },
  {
   "cell_type": "markdown",
   "metadata": {},
   "source": [
    "4번\n",
    "풀이 : \n",
    "issuperset은 포함 여부를 확인하는 함수입니다.\n",
    "\">\" 연산자는 대소 비교를 사용하므로 비슷하지만 다릅니다. "
   ]
  },
  {
   "cell_type": "markdown",
   "metadata": {},
   "source": [
    "----"
   ]
  },
  {
   "cell_type": "markdown",
   "metadata": {},
   "source": [
    "<span style=\"font-size:80%\">[문제5]<br><br></span>\n",
    "세트를 만드는 방법으로 올바르지 않은 것을 골라주세요\n",
    "\n",
    "1. x = {1, 2, 3, 4, 5}\n",
    "2. x = { }\n",
    "3. x = set('hello')\n",
    "4. x  = set(range(10))\n",
    "5. x = set()"
   ]
  },
  {
   "cell_type": "markdown",
   "metadata": {},
   "source": [
    "<span style=\"color:red\">답변</span>"
   ]
  },
  {
   "cell_type": "markdown",
   "metadata": {},
   "source": [
    "2번\n",
    "\n",
    "풀이 :\n",
    "빈 중괄호를 선언하면 dict로 선언됩니다."
   ]
  }
 ],
 "metadata": {
  "language_info": {
   "name": "python"
  }
 },
 "nbformat": 4,
 "nbformat_minor": 2
}
