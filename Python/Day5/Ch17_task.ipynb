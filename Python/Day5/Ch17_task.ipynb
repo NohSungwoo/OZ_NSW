{
 "cells": [
  {
   "cell_type": "markdown",
   "metadata": {},
   "source": [
    "<span style=\"font-size:100%\">\n",
    "\n",
    "수업은 모두 열심히 들으셨나요?\n",
    "\n",
    "간혹 강의에서 언급되지 않은 내용이 문제로 나올 수 있습니다.<br>\n",
    "그럴땐 강의 내용 외 문제는 구글링을 통해 해결해주세요<br></span>\n",
    "<span style=\"font-size:80%\">\n",
    "(구글링 또한 개발자가 갖쳐야할 역량 중에 하나랍니다 😊)\n",
    "</span>\n",
    "\n",
    "---"
   ]
  },
  {
   "cell_type": "markdown",
   "metadata": {},
   "source": [
    "<span style=\"font-size:80%\">[문제1]<br><br></span>\n",
    "두 수를 받은 뒤 곱한 결과를 반환하는 oz 함수를 만들어주세요\n"
   ]
  },
  {
   "cell_type": "markdown",
   "metadata": {},
   "source": [
    "<span style=\"color:red\">답변</span>"
   ]
  },
  {
   "cell_type": "markdown",
   "metadata": {},
   "source": [
    "def oz(a, b):\n",
    "    return (a * b)"
   ]
  },
  {
   "cell_type": "markdown",
   "metadata": {},
   "source": [
    "<span style=\"font-size:80%\">[문제2]<br><br></span>\n",
    "```\n",
    "아래 작성된 코드의 실행 결과를 설명해주세요\n",
    "\n",
    "print(\"A\") \n",
    "\n",
    "def message() : \n",
    "    print(\"B\") \n",
    "\n",
    "print(\"C\") \n",
    "\n",
    "message()\n",
    "\n",
    "```"
   ]
  },
  {
   "cell_type": "markdown",
   "metadata": {},
   "source": [
    "<span style=\"color:red\">답변</span>"
   ]
  },
  {
   "cell_type": "markdown",
   "metadata": {},
   "source": [
    "코드는 위에서 아래로 순서대로 실행됩니다.\n",
    "먼저 print(\"A\")가 실행되어\n",
    "A가 출력됩니다.\n",
    "\n",
    "def message()함수가 선언됩니다.\n",
    "\n",
    "print(\"C\")가 출력되어\n",
    "C가 출력됩니다.\n",
    "\n",
    "message() 함수를 호출해 \n",
    "B가 출력됩니다.\n",
    "\n",
    "출력 결과 :\n",
    "A\n",
    "B\n",
    "C"
   ]
  },
  {
   "cell_type": "markdown",
   "metadata": {},
   "source": [
    "----"
   ]
  },
  {
   "cell_type": "markdown",
   "metadata": {},
   "source": [
    "<span style=\"font-size:80%\">[문제3]<br><br></span>\n",
    "```매개변수가 없는 oz 함수를 호출하는 방법으로 올바른 것을 골라주세요```\n",
    "\n",
    "1. def oz\n",
    "2. oz\n",
    "3. oz( )\n",
    "4. oz[ ]\n",
    "5. def oz:"
   ]
  },
  {
   "cell_type": "markdown",
   "metadata": {},
   "source": [
    "<span style=\"color:red\">답변</span>"
   ]
  },
  {
   "cell_type": "markdown",
   "metadata": {},
   "source": [
    "3번\n",
    "\n",
    "풀이 : \n",
    "함수 호출은 oz()"
   ]
  },
  {
   "cell_type": "markdown",
   "metadata": {},
   "source": [
    "----"
   ]
  },
  {
   "cell_type": "markdown",
   "metadata": {},
   "source": [
    "<span style=\"font-size:80%\">[문4]<br><br></span>\n",
    "```문자열 하나를 입력받아 인터넷 주소를 반환하는 make_url 함수를 만들어주세요```\n",
    "\n",
    "예 ) make_url(\"google\")\n",
    "\n",
    "출력 : www.google.com"
   ]
  },
  {
   "cell_type": "markdown",
   "metadata": {},
   "source": [
    "<span style=\"color:red\">답변</span>"
   ]
  },
  {
   "cell_type": "markdown",
   "metadata": {},
   "source": [
    "def make_url(site) :\n",
    "    return print(f'www.{site}com')"
   ]
  },
  {
   "cell_type": "markdown",
   "metadata": {},
   "source": [
    "----"
   ]
  },
  {
   "cell_type": "markdown",
   "metadata": {},
   "source": [
    "<span style=\"font-size:80%\">[문제5]<br><br></span>\n",
    "```아래 코드를 실행했을때 c의 값으로 올바른 것을 골라주세요```\n",
    "\n",
    "def 함수0(num) :<br>\n",
    "&emsp;&emsp;return num * 2<br>\n",
    "\n",
    "def 함수1(num) :<br> \n",
    "&emsp;&emsp;return 함수0(num + 2)<br> \n",
    "\n",
    "def 함수2(num) :<br> \n",
    "&emsp;&emsp;num = num + 10<br> \n",
    "&emsp;&emsp;return 함수1(num)<br> \n",
    "\n",
    "c = 함수2(2)<br> \n",
    "print(c)\n",
    "\n",
    "\n",
    "1. 1\n",
    "2. 5\n",
    "3. 3\n",
    "4. 4\n",
    "5. 28"
   ]
  },
  {
   "cell_type": "markdown",
   "metadata": {},
   "source": [
    "<span style=\"color:red\">답변</span>"
   ]
  },
  {
   "cell_type": "markdown",
   "metadata": {},
   "source": [
    "5번\n",
    "\n",
    "풀이 : \n",
    "함수2에 num에 2를 할당한다.\n",
    "함수 내부에서 num 값을 12로 바꿔주고\n",
    "함수 1에 매개변수 12를 전달한다.\n",
    "\n",
    "\n",
    "함수1에서 함수0을 호출하고\n",
    "매개변수 14를 전달한다.\n",
    "\n",
    "함수 0은 14 * 2를 반환한다.\n",
    "결과적으로 28을 반환한다. "
   ]
  },
  {
   "cell_type": "markdown",
   "metadata": {},
   "source": [
    "----"
   ]
  }
 ],
 "metadata": {
  "language_info": {
   "name": "python"
  }
 },
 "nbformat": 4,
 "nbformat_minor": 2
}
