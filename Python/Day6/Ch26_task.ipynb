{
 "cells": [
  {
   "cell_type": "markdown",
   "metadata": {},
   "source": [
    "0부터 시작하여 n까지의 숫자 중에서 홀수만 생성하는 제너레이터 odd_numbers를 작성하세요."
   ]
  },
  {
   "cell_type": "markdown",
   "metadata": {},
   "source": [
    " def odd_numbers(n) :\n",
    "    for i in range(n) :\n",
    "        if i % 2 == 1 :\n",
    "            yeild i\n",
    "\n",
    "for num in odd_numbers(10) :\n",
    "    print(num)\n",
    "\n",
    "풀이 : \n",
    "    odd_numbers을 호출하면\n",
    "    i에 할당된 값을 -1까지 넣어준다.\n",
    "    if문에서 홀수일 경우에만 iterator 형태로 담아준다.\n",
    "\n",
    "    iterator 형태라 for문에서 바로 사용가능\n",
    "    num에 1,3,5,7,9가 int형으로 담겨있다."
   ]
  }
 ],
 "metadata": {
  "language_info": {
   "name": "python"
  }
 },
 "nbformat": 4,
 "nbformat_minor": 2
}
