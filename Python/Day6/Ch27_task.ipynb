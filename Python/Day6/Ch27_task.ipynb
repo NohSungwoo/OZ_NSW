{
 "cells": [
  {
   "cell_type": "markdown",
   "metadata": {},
   "source": [
    "두 숫자를 더하는 람다 함수를 작성하고, 이를 변수에 할당한 후 사용하세요."
   ]
  },
  {
   "cell_type": "markdown",
   "metadata": {},
   "source": [
    "variable_sum = lambda a, b : a + b\n",
    "variable_sum(10, 2)"
   ]
  }
 ],
 "metadata": {
  "language_info": {
   "name": "python"
  }
 },
 "nbformat": 4,
 "nbformat_minor": 2
}
