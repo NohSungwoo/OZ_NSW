{
 "cells": [
  {
   "cell_type": "markdown",
   "metadata": {},
   "source": [
    "문제1. oz라는 폴더가 있다는 가정하에 oz 폴더의 위치를 찾는 명령어를 작성해주세요"
   ]
  },
  {
   "cell_type": "markdown",
   "metadata": {},
   "source": [
    "답 : find oz\n",
    "\n",
    "---"
   ]
  },
  {
   "cell_type": "markdown",
   "metadata": {},
   "source": [
    "문제 2: 2024년 5월의 달력을 화면에 보여주는 리눅스 명령어를 작성해주세요"
   ]
  },
  {
   "cell_type": "markdown",
   "metadata": {},
   "source": [
    "답 : cal 5 2024\n",
    "\n",
    "해설 : \n",
    "다음은 cal의 메뉴얼 중 일부이다.   \n",
    "cal [-3hjy] [-A number] [-B number] [[month] year]   \n",
    "[]는 선택 옵션이고, short form을 사용하지 않으면   \n",
    "5는 month 2024는 year이 적용된다.\n",
    "\n",
    "---"
   ]
  },
  {
   "cell_type": "markdown",
   "metadata": {},
   "source": [
    "문제 3: echo 명령어를 이용해 oz.txt라는 파일을 생성하고 파일안에 “Hello Linux”라는 내용이 들어갈 수 있도록 리눅스 명령어를 작성해주세요"
   ]
  },
  {
   "cell_type": "markdown",
   "metadata": {},
   "source": [
    "답 : echo Hello Linux > oz.txt\n",
    "   \n",
    "해설 : echo Hello Linux를 이용해    \n",
    "출력값을 Hello Linux로 받아서   \n",
    "oz.txt에 초기화해 준다.   \n",
    "\n",
    "---"
   ]
  },
  {
   "cell_type": "markdown",
   "metadata": {},
   "source": [
    "문제 4 : 다음과 같은 명령어가 주어졌을 때, 그 결과로 무엇이 기대되는지 맞춰보세요.\n",
    "\n",
    "```bash\n",
    "echo \"apple banana orange\" | xargs -n 1 echo\n",
    "```"
   ]
  },
  {
   "cell_type": "markdown",
   "metadata": {},
   "source": [
    "답 : \n",
    "apple   \n",
    "banana   \n",
    "orange   \n",
    "   \n",
    "해설 :   \n",
    "-n max-args, --max-args=max-args\n",
    "    Use  at  most  max-args  arguments per command line.  Fewer than\n",
    "    max-args arguments will be used if the size (see the -s  option)\n",
    "    is  exceeded, unless the -x option is given, in which case xargs\n",
    "    will exit.   \n",
    "   \n",
    "echo의 기본값은 인자 값을 일렬로 표시한다. -> apple banana orange   \n",
    "-n 속성은 한 줄에 표시될 수 있는 최대 인자값을 조절한다.   \n",
    "문제에서는 값을 1로 정했으므로   \n",
    "한 개의 인자가 줄마다 표시된다.\n",
    "\n",
    "---"
   ]
  },
  {
   "cell_type": "markdown",
   "metadata": {},
   "source": [
    "문제 5: 아래와 같은 순서로 명령어가 입력 되었을때 4번째 명령어를 다시 사용하기 위한 리눅스 명령어를 작성해주세요\n",
    "\n",
    "1. echo oz\n",
    "2. Clear\n",
    "3. History\n",
    "4. Cal\n",
    "5. Clear\n",
    "6. which oz"
   ]
  },
  {
   "cell_type": "markdown",
   "metadata": {},
   "source": [
    "답 : !4\n",
    "\n",
    "---"
   ]
  },
  {
   "cell_type": "markdown",
   "metadata": {},
   "source": [
    "문제6. 아래 설명 중 틀린 내용을 모두 골라주세요\n",
    "\n",
    "1. CommandNames 들은 쉘의 검색 PATH 안에 있어야 합니다.\n",
    "2. 쉘은 터미널을 통해 명령이 제출될 때 명령의 의미를 해석하는 것입니다.\n",
    "3. Linux 명령은 CommandName -options input 구조를 따릅니다.\n",
    "4. 일부 명령에는 짧은 형식 옵션만 사용할 수 있습니다.\n",
    "5. 긴 형식 옵션에는 대시 1개 (-)가 있고 짧은 형식 옵션에는 대시 2개(--)가 있습니다."
   ]
  },
  {
   "cell_type": "markdown",
   "metadata": {},
   "source": [
    "답 : 3번, 5번 \n",
    "   \n",
    "해설 : Linux 명령은 CommandName - options arguments 값을 따른다.   \n",
    "긴 형식 옵션에는 대시가 2개 (--) 짧은 형식은 대시 1개(-)이다.\n",
    "\n",
    "---"
   ]
  },
  {
   "cell_type": "markdown",
   "metadata": {},
   "source": [
    "문제7. Piping에 대한 설명으로 옳은것을 골라주세요\n",
    "\n",
    "1. 한 명령의 표준 출력을 다른 명령의 표준 입력에 연결하는 것이다\n",
    "2. 네트워크 연결 여부를 확인하는 명령어다\n",
    "3. 입력된 데이터를 모아 한번에 저장하기 위해 사용되는 명령어다\n",
    "4. 삭제된 파일 목록을 확인하기 위한 명령어다"
   ]
  },
  {
   "cell_type": "markdown",
   "metadata": {},
   "source": [
    "답 : 1번\n",
    "\n",
    "---\n"
   ]
  },
  {
   "cell_type": "markdown",
   "metadata": {},
   "source": [
    "문제8. \"example.txt\" 파일에 \"Hello, world!\"라는 문자열을 기록하고, 동시에 터미널에도 출력하려고 합니다. 올바른 tee 명령어를 작성하세요."
   ]
  },
  {
   "cell_type": "markdown",
   "metadata": {},
   "source": [
    "답 : echo Hello, world! | tee example.txt | xargs echo\n",
    "   \n",
    "해설 : tee를 이용해 A의 Standard Output을   \n",
    "B에 Standard Input값으로    \n",
    "C에 Standard Arguments값으로 전달한다.   \n",
    "\n",
    "---"
   ]
  },
  {
   "cell_type": "markdown",
   "metadata": {},
   "source": [
    "문제9. 파이프라인과 명령을 기억하기 쉬운 별명으로 저장하기 위해 사용하는 명령어를 골라주세요\n",
    "\n",
    "1. Aliases\n",
    "2. Set\n",
    "3. Reference\n",
    "4. TEE\n",
    "5. xargs"
   ]
  },
  {
   "cell_type": "markdown",
   "metadata": {},
   "source": [
    "답 : 1번\n",
    "   \n",
    "해설 : 홈에 .bash_aliases 파일을 만들고   \n",
    "alias aliasName = \"command\"를 입력해 준다.   \n",
    "터미널에서 aliasName을 입력하면 command가 실행된다.\n",
    "\n",
    "---"
   ]
  },
  {
   "cell_type": "markdown",
   "metadata": {},
   "source": [
    "문제10. 현재 디렉토리에 여러개의 `.txt` 파일이 있다고 가정해봅시다. 다른 파일은 남기고 `.txt`로 끝나는 파일들만 삭제하기 위해 작성해야 하는 명령어를 작성해보세요"
   ]
  },
  {
   "cell_type": "markdown",
   "metadata": {},
   "source": [
    "답 : ls *.txt | xargs rm   \n",
    "   \n",
    "해설 : ls *.txt로 .txt가 붙는 모든 파일을 출력한다.   \n",
    "Standard Arguments로 넘겨줘서 rm 명령어에 전달한다.\n",
    "\n",
    "---"
   ]
  }
 ],
 "metadata": {
  "language_info": {
   "name": "python"
  }
 },
 "nbformat": 4,
 "nbformat_minor": 2
}
